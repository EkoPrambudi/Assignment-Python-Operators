{
 "cells": [
  {
   "cell_type": "code",
   "execution_count": 31,
   "id": "9d5e1eaf",
   "metadata": {},
   "outputs": [
    {
     "name": "stdout",
     "output_type": "stream",
     "text": [
      "Enter the first numbe           = 10\n",
      "Enter the second number         = 5\n",
      "\n",
      "Results of Operations:\n",
      "The Sum result is               = 15\n",
      "The Substraction result is      = 5\n",
      "The Multiplication result is    = 50\n",
      "The Division result is          = 2.0\n",
      "The Division floor result is    = 2\n",
      "The Exponentiation result is    = 100000\n",
      "The Modulus result is           = 0\n",
      "\n",
      "Results of Comparison:\n",
      "10 is greater than 5 : True\n",
      "10 is less than 5 : False\n",
      "10 is equal than 5 : False\n",
      "10 is not equal than 5 : True\n"
     ]
    }
   ],
   "source": [
    "num1 = int(input('Enter the first numbe           = ' ))\n",
    "num2 = int(input('Enter the second number         = ' ))\n",
    "\n",
    "sum_result = num1+num2\n",
    "sub_result = num1-num2\n",
    "mul_result = num1*num2\n",
    "div_result = num1/num2\n",
    "floor_div_result = num1//num2\n",
    "exp_result = num1**num2\n",
    "mod_result = num1%num2\n",
    "\n",
    "\n",
    "\n",
    "print('\\nResults of Operations:')\n",
    "print('The Sum result is               =', sum_result)\n",
    "print('The Substraction result is      =', sub_result)\n",
    "print('The Multiplication result is    =', mul_result)\n",
    "print('The Division result is          =', div_result)\n",
    "print('The Division floor result is    =', floor_div_result)\n",
    "print('The Exponentiation result is    =', exp_result)\n",
    "print('The Modulus result is           =', mod_result)\n",
    "\n",
    "print('\\nResults of Comparison:')\n",
    "if num1 > num2:\n",
    "    print(num1, 'is greater than', num2,':',num1>num2)\n",
    "else:\n",
    "    print(num1, 'is greater than', num2,':',num1>num2)\n",
    "    \n",
    "if num1 < num2:\n",
    "    print(num1, 'is less than', num2,':',num1<num2)\n",
    "else:\n",
    "    print(num1, 'is less than', num2,':',num1<num2)\n",
    "\n",
    "if num1 == num2:\n",
    "    print(num1, 'is equal than', num2,':',num1==num2)\n",
    "else:\n",
    "    print(num1, 'is equal than', num2,':',num1==num2)\n",
    "\n",
    "if num1 != num2:\n",
    "    print(num1, 'is not equal than', num2,':',num1!=num2)\n",
    "else:\n",
    "    print(num1, 'is not equal than', num2,':',num1!=num2)"
   ]
  },
  {
   "cell_type": "code",
   "execution_count": null,
   "id": "3dd136e5",
   "metadata": {},
   "outputs": [],
   "source": []
  }
 ],
 "metadata": {
  "kernelspec": {
   "display_name": "Python 3 (ipykernel)",
   "language": "python",
   "name": "python3"
  },
  "language_info": {
   "codemirror_mode": {
    "name": "ipython",
    "version": 3
   },
   "file_extension": ".py",
   "mimetype": "text/x-python",
   "name": "python",
   "nbconvert_exporter": "python",
   "pygments_lexer": "ipython3",
   "version": "3.10.9"
  }
 },
 "nbformat": 4,
 "nbformat_minor": 5
}
